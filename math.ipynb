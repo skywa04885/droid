{
 "cells": [
  {
   "cell_type": "code",
   "execution_count": 39,
   "metadata": {},
   "outputs": [
    {
     "name": "stdout",
     "output_type": "stream",
     "text": [
      "Requirement already satisfied: sympy in c:\\users\\webma\\appdata\\local\\programs\\python\\python311\\lib\\site-packages (1.12)\n",
      "Requirement already satisfied: mpmath>=0.19 in c:\\users\\webma\\appdata\\local\\programs\\python\\python311\\lib\\site-packages (from sympy) (1.3.0)\n"
     ]
    },
    {
     "name": "stderr",
     "output_type": "stream",
     "text": [
      "\n",
      "[notice] A new release of pip is available: 23.1.2 -> 23.3\n",
      "[notice] To update, run: python.exe -m pip install --upgrade pip\n"
     ]
    }
   ],
   "source": [
    "!pip3 install sympy"
   ]
  },
  {
   "cell_type": "code",
   "execution_count": 45,
   "metadata": {},
   "outputs": [],
   "source": [
    "from sympy import symbols, Matrix, cos, sin, tan, solve, rot_axis3"
   ]
  },
  {
   "cell_type": "code",
   "execution_count": 41,
   "metadata": {},
   "outputs": [],
   "source": [
    "alpha, beta, gamma, g = symbols(\"alpha, beta, gamma, g\")"
   ]
  },
  {
   "cell_type": "code",
   "execution_count": 42,
   "metadata": {},
   "outputs": [],
   "source": [
    "R_x = Matrix([\n",
    "    [1, 0, 0],\n",
    "    [0, ],\n",
    "    [0, ],\n",
    "])\n",
    "\n",
    "R_y = Matrix([\n",
    "    [],\n",
    "    [],\n",
    "    [],\n",
    "])\n",
    "\n",
    "R = R_x * R_y"
   ]
  },
  {
   "cell_type": "code",
   "execution_count": 43,
   "metadata": {},
   "outputs": [],
   "source": [
    "G = Matrix([\n",
    "  [0],\n",
    "  [0],\n",
    "  [-g]\n",
    "])"
   ]
  },
  {
   "cell_type": "code",
   "execution_count": 44,
   "metadata": {},
   "outputs": [
    {
     "ename": "ShapeError",
     "evalue": "Matrix size mismatch: (0, 0) * (3, 1).",
     "output_type": "error",
     "traceback": [
      "\u001b[1;31m---------------------------------------------------------------------------\u001b[0m",
      "\u001b[1;31mShapeError\u001b[0m                                Traceback (most recent call last)",
      "\u001b[1;32mc:\\Users\\webma\\OneDrive\\Documenten\\PlatformIO\\Projects\\droid\\math.ipynb Cell 6\u001b[0m line \u001b[0;36m1\n\u001b[1;32m----> <a href='vscode-notebook-cell:/c%3A/Users/webma/OneDrive/Documenten/PlatformIO/Projects/droid/math.ipynb#X10sZmlsZQ%3D%3D?line=0'>1</a>\u001b[0m R \u001b[39m*\u001b[39;49m G\n",
      "File \u001b[1;32mc:\\Users\\webma\\AppData\\Local\\Programs\\Python\\Python311\\Lib\\site-packages\\sympy\\core\\decorators.py:106\u001b[0m, in \u001b[0;36mcall_highest_priority.<locals>.priority_decorator.<locals>.binary_op_wrapper\u001b[1;34m(self, other)\u001b[0m\n\u001b[0;32m    104\u001b[0m         \u001b[39mif\u001b[39;00m f \u001b[39mis\u001b[39;00m \u001b[39mnot\u001b[39;00m \u001b[39mNone\u001b[39;00m:\n\u001b[0;32m    105\u001b[0m             \u001b[39mreturn\u001b[39;00m f(\u001b[39mself\u001b[39m)\n\u001b[1;32m--> 106\u001b[0m \u001b[39mreturn\u001b[39;00m func(\u001b[39mself\u001b[39;49m, other)\n",
      "File \u001b[1;32mc:\\Users\\webma\\AppData\\Local\\Programs\\Python\\Python311\\Lib\\site-packages\\sympy\\matrices\\common.py:2702\u001b[0m, in \u001b[0;36mMatrixArithmetic.__mul__\u001b[1;34m(self, other)\u001b[0m\n\u001b[0;32m   2673\u001b[0m \u001b[39m@call_highest_priority\u001b[39m(\u001b[39m'\u001b[39m\u001b[39m__rmul__\u001b[39m\u001b[39m'\u001b[39m)\n\u001b[0;32m   2674\u001b[0m \u001b[39mdef\u001b[39;00m \u001b[39m__mul__\u001b[39m(\u001b[39mself\u001b[39m, other):\n\u001b[0;32m   2675\u001b[0m \u001b[39m    \u001b[39m\u001b[39m\"\"\"Return self*other where other is either a scalar or a matrix\u001b[39;00m\n\u001b[0;32m   2676\u001b[0m \u001b[39m    of compatible dimensions.\u001b[39;00m\n\u001b[0;32m   2677\u001b[0m \n\u001b[1;32m   (...)\u001b[0m\n\u001b[0;32m   2699\u001b[0m \u001b[39m    matrix_multiply_elementwise\u001b[39;00m\n\u001b[0;32m   2700\u001b[0m \u001b[39m    \"\"\"\u001b[39;00m\n\u001b[1;32m-> 2702\u001b[0m     \u001b[39mreturn\u001b[39;00m \u001b[39mself\u001b[39;49m\u001b[39m.\u001b[39;49mmultiply(other)\n",
      "File \u001b[1;32mc:\\Users\\webma\\AppData\\Local\\Programs\\Python\\Python311\\Lib\\site-packages\\sympy\\matrices\\common.py:2724\u001b[0m, in \u001b[0;36mMatrixArithmetic.multiply\u001b[1;34m(self, other, dotprodsimp)\u001b[0m\n\u001b[0;32m   2720\u001b[0m \u001b[39mif\u001b[39;00m (\u001b[39mhasattr\u001b[39m(other, \u001b[39m'\u001b[39m\u001b[39mshape\u001b[39m\u001b[39m'\u001b[39m) \u001b[39mand\u001b[39;00m \u001b[39mlen\u001b[39m(other\u001b[39m.\u001b[39mshape) \u001b[39m==\u001b[39m \u001b[39m2\u001b[39m \u001b[39mand\u001b[39;00m\n\u001b[0;32m   2721\u001b[0m     (\u001b[39mgetattr\u001b[39m(other, \u001b[39m'\u001b[39m\u001b[39mis_Matrix\u001b[39m\u001b[39m'\u001b[39m, \u001b[39mTrue\u001b[39;00m) \u001b[39mor\u001b[39;00m\n\u001b[0;32m   2722\u001b[0m      \u001b[39mgetattr\u001b[39m(other, \u001b[39m'\u001b[39m\u001b[39mis_MatrixLike\u001b[39m\u001b[39m'\u001b[39m, \u001b[39mTrue\u001b[39;00m))):\n\u001b[0;32m   2723\u001b[0m     \u001b[39mif\u001b[39;00m \u001b[39mself\u001b[39m\u001b[39m.\u001b[39mshape[\u001b[39m1\u001b[39m] \u001b[39m!=\u001b[39m other\u001b[39m.\u001b[39mshape[\u001b[39m0\u001b[39m]:\n\u001b[1;32m-> 2724\u001b[0m         \u001b[39mraise\u001b[39;00m ShapeError(\u001b[39m\"\u001b[39m\u001b[39mMatrix size mismatch: \u001b[39m\u001b[39m%s\u001b[39;00m\u001b[39m * \u001b[39m\u001b[39m%s\u001b[39;00m\u001b[39m.\u001b[39m\u001b[39m\"\u001b[39m \u001b[39m%\u001b[39m (\n\u001b[0;32m   2725\u001b[0m             \u001b[39mself\u001b[39m\u001b[39m.\u001b[39mshape, other\u001b[39m.\u001b[39mshape))\n\u001b[0;32m   2727\u001b[0m \u001b[39m# honest SymPy matrices defer to their class's routine\u001b[39;00m\n\u001b[0;32m   2728\u001b[0m \u001b[39mif\u001b[39;00m \u001b[39mgetattr\u001b[39m(other, \u001b[39m'\u001b[39m\u001b[39mis_Matrix\u001b[39m\u001b[39m'\u001b[39m, \u001b[39mFalse\u001b[39;00m):\n",
      "\u001b[1;31mShapeError\u001b[0m: Matrix size mismatch: (0, 0) * (3, 1)."
     ]
    }
   ],
   "source": [
    "R * G"
   ]
  },
  {
   "cell_type": "code",
   "execution_count": null,
   "metadata": {},
   "outputs": [
    {
     "data": {
      "text/latex": [
       "$\\displaystyle \\left[\\begin{matrix}g \\left(\\sin{\\left(\\alpha \\right)} \\sin{\\left(\\gamma \\right)} + \\sin{\\left(\\beta \\right)} \\cos{\\left(\\alpha \\right)} \\cos{\\left(\\gamma \\right)}\\right)\\\\g \\left(\\sin{\\left(\\alpha \\right)} \\cos{\\left(\\beta \\right)} \\cos{\\left(\\gamma \\right)} - \\sin{\\left(\\gamma \\right)} \\cos{\\left(\\alpha \\right)}\\right)\\\\g \\cos{\\left(\\beta \\right)} \\cos{\\left(\\gamma \\right)}\\end{matrix}\\right]$"
      ],
      "text/plain": [
       "Matrix([\n",
       "[g*(sin(alpha)*sin(gamma) + sin(beta)*cos(alpha)*cos(gamma))],\n",
       "[g*(sin(alpha)*cos(beta)*cos(gamma) - sin(gamma)*cos(alpha))],\n",
       "[                                     g*cos(beta)*cos(gamma)]])"
      ]
     },
     "execution_count": 37,
     "metadata": {},
     "output_type": "execute_result"
    }
   ],
   "source": [
    "simplify(R * G)"
   ]
  },
  {
   "cell_type": "code",
   "execution_count": null,
   "metadata": {},
   "outputs": [],
   "source": []
  }
 ],
 "metadata": {
  "kernelspec": {
   "display_name": "Python 3",
   "language": "python",
   "name": "python3"
  },
  "language_info": {
   "codemirror_mode": {
    "name": "ipython",
    "version": 3
   },
   "file_extension": ".py",
   "mimetype": "text/x-python",
   "name": "python",
   "nbconvert_exporter": "python",
   "pygments_lexer": "ipython3",
   "version": "3.11.4"
  }
 },
 "nbformat": 4,
 "nbformat_minor": 2
}
